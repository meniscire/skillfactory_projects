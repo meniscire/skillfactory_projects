{
 "cells": [
  {
   "cell_type": "code",
   "execution_count": 74,
   "metadata": {},
   "outputs": [],
   "source": [
    "import numpy as np\n",
    "\n",
    "def number_guess(number):\n",
    "    ''' Функция, угадывающая заданное на вход число number из диапазона [1,100]\n",
    "    методом половинного деления за число попыток count. '''\n",
    "    count = 1\n",
    "    predict = 50 # Начальное предположение о загаданном числе\n",
    "    left_limit=1 # Начальная левая граница диапазона поиска\n",
    "    right_limit=101 # Начальная правая граница диапазона поиска\n",
    "    \n",
    "    while number != predict:\n",
    "        count+=1\n",
    "        if number > predict:\n",
    "            left_limit=predict # \"Обрезка\" диапазона поиска слева\n",
    "            predict = (left_limit+right_limit)//2\n",
    "            \n",
    "        elif number < predict: \n",
    "            right_limit=predict # \"Обрезка\" диапазона поиска справа\n",
    "            predict = (left_limit+right_limit)//2           \n",
    "    return(count)\n",
    "        \n",
    "        \n",
    "def score_game(number_guess):\n",
    "    ''' Функция, позволяющая определить среднее количество попыток, за которое\n",
    "    функция number_guess угадывает заданное число number. '''\n",
    "    \n",
    "    count_list = [] # Список, содержащий количество попыток угадывания каждого числа\n",
    "    np.random.seed(1)  # Фиксируем случайный массив, чтобы эксперимент был воспроизводим\n",
    "    random_array = np.random.randint(1,101, size=(1000))\n",
    "    \n",
    "    for number in random_array:\n",
    "        count_list.append(number_guess(number))\n",
    "    score = int(np.mean(count_list))\n",
    "    print(f\"Ваш алгоритм угадывает число в среднем за {score} попыток\")"
   ]
  },
  {
   "cell_type": "code",
   "execution_count": null,
   "metadata": {},
   "outputs": [],
   "source": []
  }
 ],
 "metadata": {
  "kernelspec": {
   "display_name": "Python 3",
   "language": "python",
   "name": "python3"
  },
  "language_info": {
   "codemirror_mode": {
    "name": "ipython",
    "version": 3
   },
   "file_extension": ".py",
   "mimetype": "text/x-python",
   "name": "python",
   "nbconvert_exporter": "python",
   "pygments_lexer": "ipython3",
   "version": "3.8.3"
  }
 },
 "nbformat": 4,
 "nbformat_minor": 4
}
